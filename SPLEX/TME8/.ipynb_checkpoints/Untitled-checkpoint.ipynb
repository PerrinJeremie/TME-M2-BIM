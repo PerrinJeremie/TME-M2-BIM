{
 "cells": [
  {
   "cell_type": "markdown",
   "metadata": {},
   "source": [
    "# [SPLEX] TME8 : Feature Selection - Model Selection\n",
    "---\n",
    "PERRIN Jérémie & PODLEJSKI Witold"
   ]
  },
  {
   "cell_type": "code",
   "execution_count": 80,
   "metadata": {},
   "outputs": [],
   "source": [
    "import numpy as np\n",
    "import pandas as pd\n",
    "import matplotlib.pyplot as plt\n",
    "from sklearn.linear_model import ElasticNet\n",
    "from sklearn.svm import LinearSVC\n",
    "from sklearn.feature_selection import SelectFromModel\n",
    "from sklearn import linear_model\n",
    "import copy"
   ]
  },
  {
   "cell_type": "code",
   "execution_count": 52,
   "metadata": {},
   "outputs": [
    {
     "name": "stdout",
     "output_type": "stream",
     "text": [
      "Size of Golub data :  (72, 3562)\n",
      "Size of Breast data :  (569, 29)\n"
     ]
    }
   ],
   "source": [
    "# Reading Golub data\n",
    "GX = pd.read_csv('data/Golub_X',sep=' ',header=None) # Observations\n",
    "Gy = pd.read_csv('data/Golub_y',sep=' ',header=None) # Classes\n",
    "\n",
    "# Reading Breast cancer data\n",
    "BX = pd.read_csv('data/Breast.txt',sep=' ',header=None)\n",
    "By = BX.values[:,30] # Classes\n",
    "BX = BX.values[:,0:29] # Observations\n",
    "\n",
    "print(\"Size of Golub data : \", GX.shape)\n",
    "print(\"Size of Breast data : \", BX.shape)"
   ]
  },
  {
   "cell_type": "markdown",
   "metadata": {},
   "source": [
    "## Question 1"
   ]
  },
  {
   "cell_type": "code",
   "execution_count": 53,
   "metadata": {},
   "outputs": [
    {
     "name": "stdout",
     "output_type": "stream",
     "text": [
      "With variance threshold 0.05\n",
      "Size of Golub data :  (72, 387)\n",
      "Size of Breast data :  (569, 29)\n",
      "With variance threshold 0.99\n",
      "Size of Breast data :  (569, 29)\n"
     ]
    }
   ],
   "source": [
    "from sklearn.feature_selection import VarianceThreshold\n",
    "\n",
    "print(\"With variance threshold 0.05\")\n",
    "sel = VarianceThreshold(threshold=0.05)\n",
    "print(\"Size of Golub data : \", sel.fit_transform(GX).shape)\n",
    "print(\"Size of Breast data : \", sel.fit_transform(BX).shape)\n",
    "\n",
    "print(\"With variance threshold 0.99\")\n",
    "sel = VarianceThreshold(threshold=0.99)\n",
    "#print(\"Size of Golub data : \", sel.fit_transform(GX).shape)\n",
    "print(\"Size of Breast data : \", sel.fit_transform(BX).shape)"
   ]
  },
  {
   "cell_type": "markdown",
   "metadata": {},
   "source": [
    "## Question 2"
   ]
  },
  {
   "cell_type": "code",
   "execution_count": 55,
   "metadata": {},
   "outputs": [
    {
     "name": "stdout",
     "output_type": "stream",
     "text": [
      "With univariate selection from ANOVA :\n",
      "Size of Golub data :  (72, 545)\n",
      "Size of Breast data :  (569, 24)\n"
     ]
    }
   ],
   "source": [
    "from sklearn.feature_selection import SelectFdr\n",
    "\n",
    "print(\"With univariate selection from ANOVA :\")\n",
    "sel = SelectFdr(alpha=0.05)\n",
    "print(\"Size of Golub data : \", sel.fit_transform(GX,np.ravel(Gy)).shape)\n",
    "print(\"Size of Breast data : \", sel.fit_transform(BX,np.ravel(By)).shape)"
   ]
  },
  {
   "cell_type": "markdown",
   "metadata": {},
   "source": [
    "## Question 3\n",
    "a) Lasso "
   ]
  },
  {
   "cell_type": "code",
   "execution_count": 81,
   "metadata": {},
   "outputs": [
    {
     "name": "stdout",
     "output_type": "stream",
     "text": [
      "Lasso :\n",
      "Number of non zero features  for Golub data:  27\n",
      "Number of non zero features  for Breast cancer data:  16\n"
     ]
    }
   ],
   "source": [
    "print(\"Lasso :\")\n",
    "lasso = {}\n",
    "clf = linear_model.Lasso(alpha=0.01)\n",
    "clf.fit(GX,Gy)\n",
    "lasso['G'] = copy.copy(clf)\n",
    "print(\"Number of non zero features  for Golub data: \",len(np.where(clf.coef_ != 0)[0]))\n",
    "clf.fit(BX,By)\n",
    "lasso['B'] = copy.copy(clf)\n",
    "print(\"Number of non zero features  for Breast cancer data: \",len(np.where(clf.coef_ != 0)[0]))\n"
   ]
  },
  {
   "cell_type": "markdown",
   "metadata": {},
   "source": [
    "b) SVM with L1 penalty"
   ]
  },
  {
   "cell_type": "code",
   "execution_count": 84,
   "metadata": {},
   "outputs": [
    {
     "name": "stdout",
     "output_type": "stream",
     "text": [
      "SVM with L1 penalty :\n",
      "Number of non zero features  for Golub data:  12\n",
      "Number of non zero features  for Breast Cancer data:  14\n"
     ]
    }
   ],
   "source": [
    "print(\"SVM with L1 penalty :\")\n",
    "svm = {}\n",
    "clf = LinearSVC(C = 0.1, penalty=\"l1\", dual=False)\n",
    "clf.fit(GX,np.ravel(Gy))\n",
    "svm['G'] = copy.copy(clf)\n",
    "print(\"Number of non zero features  for Golub data: \",len(np.where(clf.coef_ != 0)[0]))\n",
    "clf.fit(BX,np.ravel(By))\n",
    "svm['B'] = copy.copy(clf)\n",
    "print(\"Number of non zero features  for Breast Cancer data: \",len(np.where(clf.coef_ != 0)[0]))"
   ]
  },
  {
   "cell_type": "markdown",
   "metadata": {},
   "source": [
    "c) Elastic Net\n"
   ]
  },
  {
   "cell_type": "code",
   "execution_count": 85,
   "metadata": {},
   "outputs": [
    {
     "name": "stdout",
     "output_type": "stream",
     "text": [
      "Number of non zero features  for Golub data:  40\n",
      "Number of non zero features  for Breast Cancer data:  18\n"
     ]
    }
   ],
   "source": [
    "clf = ElasticNet(alpha=0.01, l1_ratio=0.7)\n",
    "EN = {}\n",
    "clf.fit(GX,np.ravel(Gy))\n",
    "EN['G'] = copy.copy(clf)\n",
    "print(\"Number of non zero features  for Golub data: \",len(np.where(clf.coef_ != 0)[0]))\n",
    "clf.fit(BX,np.ravel(By))\n",
    "EN['B'] = copy.copy(clf)\n",
    "print(\"Number of non zero features  for Breast Cancer data: \",len(np.where(clf.coef_ != 0)[0]))"
   ]
  },
  {
   "cell_type": "markdown",
   "metadata": {},
   "source": [
    "## Assessing the quality of the classifications"
   ]
  },
  {
   "cell_type": "code",
   "execution_count": 89,
   "metadata": {},
   "outputs": [
    {
     "name": "stdout",
     "output_type": "stream",
     "text": [
      "Best Classification for G dataset is SVM method. With accuracy : 0.9861111111111112\n",
      "Best Classification for B dataset is SVM method. With accuracy : 0.9876977152899824\n"
     ]
    }
   ],
   "source": [
    "clfs = {'Lasso':lasso,'SVM':svm,'Elastic Net' : EN}\n",
    "data = {'G':(GX,Gy),'B':(BX,By)}\n",
    "for i in ['G','B']:\n",
    "    best = \"\"\n",
    "    bestacc = 0\n",
    "    for name,clf in clfs.items():\n",
    "        s = clf[i].score(*data[i])\n",
    "        if s > bestacc:\n",
    "            best = name\n",
    "            bestacc = s\n",
    "    print(\"Best Classification for \" + i + \" dataset is \" + best + \" method. With accuracy :\",bestacc)"
   ]
  },
  {
   "cell_type": "code",
   "execution_count": null,
   "metadata": {},
   "outputs": [],
   "source": []
  }
 ],
 "metadata": {
  "kernelspec": {
   "display_name": "Python 3",
   "language": "python",
   "name": "python3"
  },
  "language_info": {
   "codemirror_mode": {
    "name": "ipython",
    "version": 3
   },
   "file_extension": ".py",
   "mimetype": "text/x-python",
   "name": "python",
   "nbconvert_exporter": "python",
   "pygments_lexer": "ipython3",
   "version": "3.5.3"
  }
 },
 "nbformat": 4,
 "nbformat_minor": 2
}
