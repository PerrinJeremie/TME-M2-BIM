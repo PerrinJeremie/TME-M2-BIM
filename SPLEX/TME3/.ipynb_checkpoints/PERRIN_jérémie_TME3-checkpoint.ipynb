{
 "cells": [
  {
   "cell_type": "markdown",
   "metadata": {},
   "source": [
    "# SPLEX TME 3\n",
    "#            Decision Trees and Random Forest\n",
    "\n",
    "Jérémie Perrin"
   ]
  },
  {
   "cell_type": "code",
   "execution_count": 117,
   "metadata": {},
   "outputs": [],
   "source": [
    "import pandas as pd\n",
    "import graphviz\n",
    "from sklearn import tree\n",
    "from sklearn.ensemble import RandomForestClassifier\n",
    "import numpy as np\n",
    "import matplotlib.pyplot as plt"
   ]
  },
  {
   "cell_type": "code",
   "execution_count": 149,
   "metadata": {},
   "outputs": [],
   "source": [
    "data_diabetes = pd.read_table('patients_data.txt',sep='\\t',header=None)\n",
    "classes_diabetes = pd.read_table('patients_classes.txt',sep='\\t',header=None)\n",
    "\n",
    "data_train = data_diabetes[:][10:190]\n",
    "data_test = data_diabetes[:][0:10].append(data_diabetes[:][190:200])\n",
    "\n",
    "classes_train = classes_diabetes[:][10:190]\n",
    "classes_test = classes_diabetes[:][0:10].append(classes_diabetes[:][190:200])"
   ]
  },
  {
   "cell_type": "markdown",
   "metadata": {},
   "source": [
    "## Descision Trees\n",
    "\n",
    "We first fit the classifier then render as a pdf file the decision diagram."
   ]
  },
  {
   "cell_type": "code",
   "execution_count": 151,
   "metadata": {},
   "outputs": [
    {
     "data": {
      "text/plain": [
       "'diabetes remission.pdf'"
      ]
     },
     "execution_count": 151,
     "metadata": {},
     "output_type": "execute_result"
    }
   ],
   "source": [
    "clf = tree.DecisionTreeClassifier()\n",
    "clf = clf.fit(data_train, classes_train)\n",
    "\n",
    "feature_names = ['age', 'hba1c', 'insuline taken', 'other drugs taken']\n",
    "classes = ['DR','NDR']\n",
    "dot_data = tree.export_graphviz(clf, out_file=None,\n",
    "    feature_names=feature_names,\n",
    "    class_names=classes,\n",
    "    filled=True, rounded=True,\n",
    "    special_characters=True)\n",
    "graph = graphviz.Source(dot_data)\n",
    "predTree = clf.predict(data_test)\n",
    "graph.render(\"diabetes remission\")"
   ]
  },
  {
   "cell_type": "markdown",
   "metadata": {},
   "source": [
    "Now we draw the decision surfaces for the different pairs of variables."
   ]
  },
  {
   "cell_type": "code",
   "execution_count": 152,
   "metadata": {},
   "outputs": [
    {
     "data": {
      "image/png": "[encoded data removed]",
      "text/plain": [
       "<Figure size 432x288 with 6 Axes>"
      ]
     },
     "metadata": {
      "needs_background": "light"
     },
     "output_type": "display_data"
    },
    {
     "data": {
      "text/plain": [
       "<Figure size 432x288 with 0 Axes>"
      ]
     },
     "metadata": {},
     "output_type": "display_data"
    }
   ],
   "source": [
    "# Parameters\n",
    "n_classes = 2\n",
    "plot_colors = \"rb\"\n",
    "plot_step = 0.02\n",
    "\n",
    "for pairidx, pair in enumerate([[0, 1], [0, 2], [0, 3],\n",
    "                                [1, 2], [1, 3], [2, 3]]):\n",
    "    # We only take the two corresponding features\n",
    "    X = data_train[:][pair]\n",
    "    y = classes_train\n",
    "\n",
    "    # Train\n",
    "    clf = tree.DecisionTreeClassifier().fit(X, y)\n",
    "\n",
    "    # Plot the decision boundary\n",
    "    plt.subplot(2, 3, pairidx + 1)\n",
    "\n",
    "    x_min, x_max = X[:][pair[0]].min() - 1, X[:][pair[0]].max() + 1\n",
    "    y_min, y_max = X[:][pair[1]].min() - 1, X[:][pair[1]].max() + 1\n",
    "    xx, yy = np.meshgrid(np.arange(x_min, x_max, plot_step),\n",
    "                         np.arange(y_min, y_max, plot_step))\n",
    "    plt.tight_layout(h_pad=0.5, w_pad=0.5, pad=2.5)\n",
    "\n",
    "    Z = clf.predict(np.c_[xx.ravel(), yy.ravel()])\n",
    "    Z = Z.reshape(xx.shape)\n",
    "    cs = plt.contourf(xx, yy, Z, cmap=plt.cm.RdYlBu)\n",
    "\n",
    "    plt.xlabel(feature_names[pair[0]])\n",
    "    plt.ylabel(feature_names[pair[1]])\n",
    "\n",
    "    # Plot the training points\n",
    "    for i, color in zip(range(n_classes), plot_colors):\n",
    "        idx = np.where(y == i)\n",
    "        plt.scatter(X.iloc[idx[0]][pair[0]], X.iloc[idx[0]][pair[1]], c=color, label=classes[i],\n",
    "                    cmap=plt.cm.RdYlBu, edgecolor='black', s=15)\n",
    "\n",
    "plt.suptitle(\"Decision surface of a decision tree using paired features\")\n",
    "plt.legend(loc='lower right', borderpad=0, handletextpad=0)\n",
    "plt.axis(\"tight\")\n",
    "clf = clf.fit(data_train, classes_train)\n",
    "plt.figure()\n",
    "plt.show()\n"
   ]
  },
  {
   "cell_type": "markdown",
   "metadata": {},
   "source": [
    "## Random Forest"
   ]
  },
  {
   "cell_type": "code",
   "execution_count": 153,
   "metadata": {},
   "outputs": [
    {
     "name": "stderr",
     "output_type": "stream",
     "text": [
      "/home/gr3w/.local/lib/python3.5/site-packages/sklearn/ensemble/forest.py:245: FutureWarning: The default value of n_estimators will change from 10 in version 0.20 to 100 in 0.22.\n",
      "  \"10 in version 0.20 to 100 in 0.22.\", FutureWarning)\n"
     ]
    }
   ],
   "source": [
    "clf = RandomForestClassifier(max_depth=2, random_state=0)\n",
    "clf = clf.fit(data_train, np.array(classes_train[0]))"
   ]
  },
  {
   "cell_type": "code",
   "execution_count": 154,
   "metadata": {},
   "outputs": [
    {
     "data": {
      "text/plain": [
       "array([0.39708883, 0.15159299, 0.31617791, 0.13514027])"
      ]
     },
     "execution_count": 154,
     "metadata": {},
     "output_type": "execute_result"
    }
   ],
   "source": [
    "predForest = clf.predict(data_test)\n",
    "clf.feature_importances_"
   ]
  },
  {
   "cell_type": "markdown",
   "metadata": {},
   "source": [
    "## Interpretable Models: comparison with the state-of-the-art clinical score DiaRem"
   ]
  },
  {
   "cell_type": "code",
   "execution_count": 156,
   "metadata": {},
   "outputs": [],
   "source": [
    "\n",
    "def scoreAge(x):\n",
    "    if x < 40:\n",
    "        return 0\n",
    "    elif x >= 60:\n",
    "        return 3\n",
    "    elif x < 50:\n",
    "        return 1\n",
    "    else :\n",
    "        return 2\n",
    "    \n",
    "    \n",
    "def scoreHb(x):\n",
    "    if x < 6.5:\n",
    "        return 0\n",
    "    elif x < 7:\n",
    "        return 2\n",
    "    elif x < 9:\n",
    "        return 4\n",
    "    else :\n",
    "        return 6\n",
    "    \n",
    "def scoreIns(x):\n",
    "    if x == 0:\n",
    "        return 0\n",
    "    else :\n",
    "        return 10\n",
    "    \n",
    "def scoreDr(x):\n",
    "    if x == 0:\n",
    "        return 0\n",
    "    else :\n",
    "        return 3\n",
    "    \n",
    "def DiaRem(a):\n",
    "    s = 0\n",
    "    s += scoreAge(a[0])\n",
    "    s += scoreHb(a[1])\n",
    "    s += scoreIns(a[2])\n",
    "    s += scoreDr(a[3])\n",
    "    if s > 7:\n",
    "        return 1\n",
    "    else :\n",
    "        return 0\n",
    "    \n",
    "y = []\n",
    "    \n",
    "for i in range(len(data_test[0])):\n",
    "    y.append(DiaRem(np.array(data_test.iloc[i])))\n",
    "        \n",
    "    "
   ]
  },
  {
   "cell_type": "markdown",
   "metadata": {},
   "source": [
    "### For Decision trees\n",
    "\n",
    "Judging function which returns False Positives, True Positives, False Negatives and True Negatives"
   ]
  },
  {
   "cell_type": "code",
   "execution_count": 157,
   "metadata": {},
   "outputs": [],
   "source": [
    "def res(pred,classes):\n",
    "    TP = 0\n",
    "    FP = 0\n",
    "    FN = 0\n",
    "    TN = 0\n",
    "    for i in range(len(classes)):\n",
    "        if classes[i] == 1 :\n",
    "            if pred[i] == 1:\n",
    "                TP+=1\n",
    "            else:\n",
    "                FN+=1\n",
    "        else:\n",
    "            if pred[i] == 1:\n",
    "                FP+=1\n",
    "            else:\n",
    "                TN+=1\n",
    "    return TP,FP,FN,TN\n"
   ]
  },
  {
   "cell_type": "code",
   "execution_count": 158,
   "metadata": {},
   "outputs": [
    {
     "name": "stdout",
     "output_type": "stream",
     "text": [
      "True Positives  : 5\n",
      "False Positives : 6\n",
      "False Negatives : 5\n",
      "True Negatives  : 4\n"
     ]
    }
   ],
   "source": [
    "\n",
    "TP,FP,FN,TN = res(predTree,list(classes_test[0]))\n",
    "print(\"True Positives  :\", TP)\n",
    "print(\"False Positives :\", FP)\n",
    "print(\"False Negatives :\", FN)\n",
    "print(\"True Negatives  :\", TN)"
   ]
  },
  {
   "cell_type": "markdown",
   "metadata": {},
   "source": [
    "The decision trees clearly overfit as they have a zero error rate on the learning material but behave poorly on the test set.\n",
    "### For Random Forest\n"
   ]
  },
  {
   "cell_type": "code",
   "execution_count": 159,
   "metadata": {},
   "outputs": [
    {
     "name": "stdout",
     "output_type": "stream",
     "text": [
      "True Positives  : 7\n",
      "False Positives : 3\n",
      "False Negatives : 3\n",
      "True Negatives  : 7\n"
     ]
    }
   ],
   "source": [
    "TP,FP,FN,TN = res(predForest,list(classes_test[0]))\n",
    "print(\"True Positives  :\", TP)\n",
    "print(\"False Positives :\", FP)\n",
    "print(\"False Negatives :\", FN)\n",
    "print(\"True Negatives  :\", TN)\n"
   ]
  },
  {
   "cell_type": "markdown",
   "metadata": {},
   "source": [
    "The random forest has a more stable behavior, even though the training error isn't perfect it actually performs similarly on the test set.\n",
    "### Interpretable model\n"
   ]
  },
  {
   "cell_type": "code",
   "execution_count": 161,
   "metadata": {},
   "outputs": [
    {
     "name": "stdout",
     "output_type": "stream",
     "text": [
      "True Positives  : 9\n",
      "False Positives : 5\n",
      "False Negatives : 1\n",
      "True Negatives  : 5\n"
     ]
    }
   ],
   "source": [
    "TP,FP,FN,TN = res(y,list(classes_test[0]))\n",
    "print(\"True Positives  :\", TP)\n",
    "print(\"False Positives :\", FP)\n",
    "print(\"False Negatives :\", FN)\n",
    "print(\"True Negatives  :\", TN)"
   ]
  },
  {
   "cell_type": "markdown",
   "metadata": {},
   "source": [
    "The DiaRem seems really good at finding the patients with no diabetes remission. At the cost of diagnocizing non-remission for patients with remission."
   ]
  }
 ],
 "metadata": {
  "kernelspec": {
   "display_name": "Python 3",
   "language": "python",
   "name": "python3"
  },
  "language_info": {
   "codemirror_mode": {
    "name": "ipython",
    "version": 3
   },
   "file_extension": ".py",
   "mimetype": "text/x-python",
   "name": "python",
   "nbconvert_exporter": "python",
   "pygments_lexer": "ipython3",
   "version": "3.5.3"
  }
 },
 "nbformat": 4,
 "nbformat_minor": 2
}
